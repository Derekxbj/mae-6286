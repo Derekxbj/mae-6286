{
 "cells": [
  {
   "cell_type": "code",
   "execution_count": 1,
   "metadata": {
    "collapsed": true
   },
   "outputs": [],
   "source": [
    "%matplotlib inline\n",
    "import numpy as np\n",
    "from matplotlib import pyplot\n",
    "from matplotlib import rcParams\n",
    "rcParams['font.family'] = 'serif'\n",
    "rcParams['font.size'] = 16"
   ]
  },
  {
   "cell_type": "code",
   "execution_count": 2,
   "metadata": {
    "collapsed": true
   },
   "outputs": [],
   "source": [
    "nx = 81\n",
    "dx = .25\n",
    "dt = .0002\n",
    "gamma = 1.4\n",
    "t = 0.01\n",
    "nt = int(t/dt)+1\n",
    "\n",
    "x = np.linspace(-10, 10, nx)"
   ]
  },
  {
   "cell_type": "code",
   "execution_count": 3,
   "metadata": {
    "collapsed": true
   },
   "outputs": [],
   "source": [
    "def initial_condition(nx):\n",
    "    \"\"\"\n",
    "    Define the initial conditions of left side and right side\n",
    "    \"\"\"\n",
    "    \n",
    "    IC = np.zeros((nx,3))\n",
    "    IC[:int((nx-1)/2),0] = 1\n",
    "    IC[int((nx-1)/2):,0] = 0.125\n",
    "    IC[:int((nx-1)/2),2] = 100e3\n",
    "    IC[int((nx-1)/2):,2] = 10e3\n",
    "    \n",
    "    return IC"
   ]
  },
  {
   "cell_type": "code",
   "execution_count": 4,
   "metadata": {
    "collapsed": true
   },
   "outputs": [],
   "source": [
    "def computeU(nx):\n",
    "    \"\"\"\n",
    "    Return the array of vector of initial variable U\n",
    "    \"\"\"\n",
    "    \n",
    "    IC = initial_condition(nx)\n",
    "    \n",
    "    # the initial condition for rho\n",
    "    rho_0 = IC[:,0]\n",
    "    \n",
    "    # the initial condition for u\n",
    "    u_0 = IC[:,1]\n",
    "    \n",
    "    # the initial condition for p\n",
    "    p_0 = IC[:,2]\n",
    "    \n",
    "    return np.array([rho_0,\n",
    "                     rho_0*u_0,\n",
    "                     rho_0*e_T(rho_0,p_0,u_0)])"
   ]
  },
  {
   "cell_type": "code",
   "execution_count": 5,
   "metadata": {
    "collapsed": true
   },
   "outputs": [],
   "source": [
    "def computeF(U):\n",
    "    \"\"\"\n",
    "    Return the array of flux vector F\n",
    "    \"\"\"\n",
    "    \n",
    "    U1 = U[0]\n",
    "    U2 = U[1]\n",
    "    U3 = U[2]\n",
    "    \n",
    "    return np.array([U2,\n",
    "                     U2**2/U1 + (gamma-1)*(U3 - 0.5*U2**2/U1),\n",
    "                    (U3 + (gamma-1)*(U3 - 0.5*U2**2/U1))*(U2/U1)])"
   ]
  },
  {
   "cell_type": "code",
   "execution_count": 6,
   "metadata": {
    "collapsed": true
   },
   "outputs": [],
   "source": [
    "def e_T(rho, p, u):\n",
    "    \"\"\"\n",
    "    Define the function of specific total energy\n",
    "    \"\"\"\n",
    "    \n",
    "    return p/((gamma-1)*rho) + 0.5*u**2"
   ]
  },
  {
   "cell_type": "code",
   "execution_count": 7,
   "metadata": {
    "collapsed": true
   },
   "outputs": [],
   "source": [
    "def richtmyer(U, nx, dx, nt, dt):\n",
    "    \"\"\"\n",
    "    Using the Richtmyer method to calculate the Sod's Shock Tube problem\n",
    "    \"\"\"\n",
    "    \n",
    "    U_n = np.zeros((3,nt,nx))\n",
    "    for t in range(0,nt):\n",
    "        U_n[:,t,:] = U[:,:].copy()\n",
    "    \n",
    "    # Set the temporary variable\n",
    "    U_plus = np.zeros((3,nx))\n",
    "    U_plus = U_n[:,0,:].copy()\n",
    "    F_plus = np.zeros((3,nx))\n",
    "    \n",
    "    for t in range(1,nt):\n",
    "        # first-step\n",
    "        F_plus = computeF(U)\n",
    "        U_plus[:,:-1] = 0.5*(U[:,1:] + U[:,:-1]) - dt/(2*dx)*(F_plus[:,1:] - F_plus[:,:-1])\n",
    "        # second-step\n",
    "        F = computeF(U_plus)\n",
    "        U_n[:,t,1:-1] = U[:,1:-1] - dt/dx*(F[:,1:-1] - F[:,:-2])\n",
    "        U = U_n[:,t,:].copy()\n",
    "        \n",
    "    return U_n     "
   ]
  },
  {
   "cell_type": "code",
   "execution_count": 8,
   "metadata": {
    "collapsed": true
   },
   "outputs": [],
   "source": [
    "U = computeU(nx)\n",
    "U_n = richtmyer(U, nx, dx, nt, dt)\n",
    "\n",
    "rho = U_n[0,int(t/dt),:]\n",
    "\n",
    "u = U_n[1,int(t/dt),:]/U_n[0,int(t/dt),:]\n",
    "\n",
    "p = (gamma - 1)*(U_n[2,int(t/dt),:] - 0.5*U_n[1,int(t/dt),:]**2/U_n[0,int(t/dt),:])\n"
   ]
  },
  {
   "cell_type": "code",
   "execution_count": 9,
   "metadata": {},
   "outputs": [
    {
     "data": {
      "image/png": "[encoded data removed]",
      "text/plain": [
       "<matplotlib.figure.Figure at 0x117bc4be0>"
      ]
     },
     "metadata": {},
     "output_type": "display_data"
    }
   ],
   "source": [
    "# plot the result\n",
    "pyplot.figure(figsize=(20,5))\n",
    "pyplot.subplot(131)\n",
    "pyplot.plot(x, rho, color='#003366', ls='-', lw=2)\n",
    "pyplot.title('Density')\n",
    "pyplot.xlabel('x')\n",
    "pyplot.ylim(0,1.5);\n",
    "\n",
    "pyplot.subplot(132)\n",
    "pyplot.plot(x, u, color='#003366', ls='-', lw=2)\n",
    "pyplot.title('velocity')\n",
    "pyplot.xlabel('x')\n",
    "pyplot.ylim(0,450);\n",
    "\n",
    "pyplot.subplot(133)\n",
    "pyplot.plot(x, p, color='#003366', ls='-', lw=2)\n",
    "pyplot.title('Pressure')\n",
    "pyplot.xlabel('x')\n",
    "pyplot.ylim(0,11e4);"
   ]
  },
  {
   "cell_type": "code",
   "execution_count": 10,
   "metadata": {
    "scrolled": true
   },
   "outputs": [
    {
     "data": {
      "text/plain": [
       "50"
      ]
     },
     "execution_count": 10,
     "metadata": {},
     "output_type": "execute_result"
    }
   ],
   "source": [
    "# Define the position required by the question\n",
    "position = int(np.where(x==2.5)[0])\n",
    "position"
   ]
  },
  {
   "cell_type": "code",
   "execution_count": 11,
   "metadata": {},
   "outputs": [
    {
     "data": {
      "text/plain": [
       "292.61147152682651"
      ]
     },
     "execution_count": 11,
     "metadata": {},
     "output_type": "execute_result"
    }
   ],
   "source": [
    "# First question\n",
    "u[position]"
   ]
  },
  {
   "cell_type": "code",
   "execution_count": 12,
   "metadata": {},
   "outputs": [
    {
     "data": {
      "text/plain": [
       "30250.89016757203"
      ]
     },
     "execution_count": 12,
     "metadata": {},
     "output_type": "execute_result"
    }
   ],
   "source": [
    "# Second question\n",
    "p[position]"
   ]
  },
  {
   "cell_type": "code",
   "execution_count": 13,
   "metadata": {},
   "outputs": [
    {
     "data": {
      "text/plain": [
       "0.3746914026476012"
      ]
     },
     "execution_count": 13,
     "metadata": {},
     "output_type": "execute_result"
    }
   ],
   "source": [
    "# Third question\n",
    "rho[position]"
   ]
  },
  {
   "cell_type": "code",
   "execution_count": null,
   "metadata": {
    "collapsed": true
   },
   "outputs": [],
   "source": []
  }
 ],
 "metadata": {
  "kernelspec": {
   "display_name": "Python 3",
   "language": "python",
   "name": "python3"
  },
  "language_info": {
   "codemirror_mode": {
    "name": "ipython",
    "version": 3
   },
   "file_extension": ".py",
   "mimetype": "text/x-python",
   "name": "python",
   "nbconvert_exporter": "python",
   "pygments_lexer": "ipython3",
   "version": "3.6.3"
  }
 },
 "nbformat": 4,
 "nbformat_minor": 2
}
