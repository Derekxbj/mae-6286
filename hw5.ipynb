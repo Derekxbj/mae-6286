{
 "cells": [
  {
   "cell_type": "code",
   "execution_count": 1,
   "metadata": {
    "collapsed": true
   },
   "outputs": [],
   "source": [
    "import numpy as np"
   ]
  },
  {
   "cell_type": "code",
   "execution_count": 2,
   "metadata": {
    "collapsed": true
   },
   "outputs": [],
   "source": [
    "nx = 41\n",
    "ny = 41\n",
    "\n",
    "l = 1.\n",
    "h = 1.\n",
    "\n",
    "dx = l/(nx-1)\n",
    "dy = h/(ny-1)\n",
    "\n",
    "l1_target = 1e-6\n",
    "\n",
    "def L1norm(new, old):\n",
    "    norm = np.sum(np.abs(new-old))\n",
    "    return norm"
   ]
  },
  {
   "cell_type": "code",
   "execution_count": 3,
   "metadata": {
    "collapsed": true
   },
   "outputs": [],
   "source": [
    "w = np.zeros((nx,ny))\n",
    "psi = np.zeros((nx,ny))"
   ]
  },
  {
   "cell_type": "code",
   "execution_count": 4,
   "metadata": {
    "collapsed": true
   },
   "outputs": [],
   "source": [
    "def stokes(w, psi, dx, dy, l1_target):\n",
    "    \n",
    "    u = 1.\n",
    "    \n",
    "    w_n = np.zeros_like(w)\n",
    "    psi_n = np.zeros_like(psi)\n",
    "    \n",
    "    iterations = 0\n",
    "    \n",
    "    \n",
    "    while True:\n",
    "        w_n = w.copy()\n",
    "        psi_n = psi.copy()\n",
    "        \n",
    "        w[1:-1,1:-1] = 0.25*(w_n[1:-1,2:] + w_n[1:-1,:-2] \\\n",
    "                             + w_n[2:,1:-1] + w_n[:-2,1:-1])\n",
    "        psi[1:-1,1:-1] = 1/(2*(dx**2 + dy**2)) * \\\n",
    "                            ((psi_n[1:-1,2:] + psi_n[1:-1,:-2])*dy**2 +\\\n",
    "                            (psi_n[2:,1:-1] + psi_n[:-2,1:-1])*dx**2 +\\\n",
    "                             w_n[1:-1,1:-1]*dx**2*dy**2)\n",
    "        \n",
    "        # Enforce Boundary Condtions\n",
    "        w[-1,1:-1] = -1/(2*dy**2)*(8*psi[-2,1:-1] - psi[-3,1:-1]) - 3*u/dy # Top\n",
    "        w[0,1:-1] = -1/(2*dy**2)*(8*psi[1,1:-1] - psi[2,1:-1]) # Bottom\n",
    "        w[1:-1,0] = -1/(2*dy**2)*(8*psi[1:-1,1] - psi[1:-1,2]) # Left\n",
    "        w[1:-1,-1] = -1/(2*dy**2)*(8*psi[1:-1,-2] - psi[1:-1,-3]) # Right\n",
    "        \n",
    "        w_norm = L1norm(w,w_n)\n",
    "        psi_norm = L1norm(psi,psi_n)\n",
    "        iterations += 1\n",
    "        \n",
    "        if w_norm < l1_target and psi_norm < l1_target:\n",
    "            break\n",
    "    \n",
    "    print('The number of iterations is: {}'.format(iterations))\n",
    "    return w,psi"
   ]
  },
  {
   "cell_type": "code",
   "execution_count": 5,
   "metadata": {},
   "outputs": [
    {
     "name": "stdout",
     "output_type": "stream",
     "text": [
      "The number of iterations is: 4060\n"
     ]
    }
   ],
   "source": [
    "w_n,psi_n = stokes(w, psi, dx, dy, l1_target)"
   ]
  },
  {
   "cell_type": "markdown",
   "metadata": {},
   "source": [
    "What is the maximum value of |ψ| within the cavity when the solution has relaxed to the specified criteria? "
   ]
  },
  {
   "cell_type": "code",
   "execution_count": 6,
   "metadata": {
    "scrolled": true
   },
   "outputs": [
    {
     "data": {
      "text/plain": [
       "0.0998"
      ]
     },
     "execution_count": 6,
     "metadata": {},
     "output_type": "execute_result"
    }
   ],
   "source": [
    "np.round(np.max(np.abs(psi)), 4)"
   ]
  },
  {
   "cell_type": "markdown",
   "metadata": {},
   "source": [
    "What is the maximum value of |ω| within the cavity when the solution has relaxed to the specified criteria? (specify to 4 decimal places)"
   ]
  },
  {
   "cell_type": "code",
   "execution_count": 7,
   "metadata": {},
   "outputs": [
    {
     "data": {
      "text/plain": [
       "78.192700000000002"
      ]
     },
     "execution_count": 7,
     "metadata": {},
     "output_type": "execute_result"
    }
   ],
   "source": [
    "np.round(np.max(np.abs(w)), 4)"
   ]
  },
  {
   "cell_type": "markdown",
   "metadata": {},
   "source": [
    "Run\n",
    "\n",
    "numpy.round(psi[32,::8], 4)\n",
    "replacing psi with whatever the name of your ψ array is.\n",
    "\n",
    "Enter the six numbers of the resulting array below (round all results to 4 decimal places):"
   ]
  },
  {
   "cell_type": "code",
   "execution_count": 8,
   "metadata": {},
   "outputs": [
    {
     "data": {
      "text/plain": [
       "array([ 0.    , -0.0575, -0.0944, -0.0944, -0.0575,  0.    ])"
      ]
     },
     "execution_count": 8,
     "metadata": {},
     "output_type": "execute_result"
    }
   ],
   "source": [
    "np.round(psi[32,::8], 4)"
   ]
  },
  {
   "cell_type": "code",
   "execution_count": 9,
   "metadata": {
    "collapsed": true
   },
   "outputs": [],
   "source": [
    "from matplotlib import pyplot,cm\n",
    "%matplotlib inline"
   ]
  },
  {
   "cell_type": "markdown",
   "metadata": {},
   "source": [
    "The final result should resemble the plot shown below. "
   ]
  },
  {
   "cell_type": "code",
   "execution_count": 10,
   "metadata": {},
   "outputs": [
    {
     "data": {
      "image/png": "[encoded data removed]",
      "text/plain": [
       "<matplotlib.figure.Figure at 0x10cf61860>"
      ]
     },
     "metadata": {},
     "output_type": "display_data"
    }
   ],
   "source": [
    "x = np.linspace(0,1,nx)\n",
    "y = np.linspace(0,1,ny)\n",
    "\n",
    "pyplot.figure(figsize=(12,10))\n",
    "pyplot.contourf(x,y,psi,20,cmap=cm.viridis);\n",
    "pyplot.colorbar();"
   ]
  },
  {
   "cell_type": "code",
   "execution_count": null,
   "metadata": {
    "collapsed": true
   },
   "outputs": [],
   "source": []
  }
 ],
 "metadata": {
  "kernelspec": {
   "display_name": "Python 3",
   "language": "python",
   "name": "python3"
  },
  "language_info": {
   "codemirror_mode": {
    "name": "ipython",
    "version": 3
   },
   "file_extension": ".py",
   "mimetype": "text/x-python",
   "name": "python",
   "nbconvert_exporter": "python",
   "pygments_lexer": "ipython3",
   "version": "3.6.3"
  }
 },
 "nbformat": 4,
 "nbformat_minor": 2
}
