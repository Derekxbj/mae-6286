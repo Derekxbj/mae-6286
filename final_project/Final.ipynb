{
 "cells": [
  {
   "cell_type": "code",
   "execution_count": 3,
   "metadata": {
    "collapsed": true
   },
   "outputs": [],
   "source": [
    "%matplotlib inline\n",
    "import numpy as np\n",
    "from pylab import figure, imshow, title, colorbar\n",
    "np.set_printoptions(threshold=np.nan)"
   ]
  },
  {
   "cell_type": "code",
   "execution_count": 4,
   "metadata": {},
   "outputs": [],
   "source": [
    "# Initial Conditions\n",
    "n = 100\n",
    "u0 = np.zeros((n,n)) # velocity in x direction - still water\n",
    "v0 = np.zeros((n,n)) # velocity in y direction - still water\n",
    "\n",
    "# eta (like height) will be uniform with a perturbation in the center\n",
    "eta_start = np.ones((n,n)) # pressure deviation (like height)\n",
    "x,y = np.mgrid[:n,:n]\n",
    "droplet_x, droplet_y = n/2, n/2\n",
    "rr = (x-droplet_x)**2 + (y-droplet_y)**2\n",
    "eta_start[rr<10**2] = 1.1 # add a perturbation in pressure surface\n",
    "\n",
    "# Parameters describing simulation\n",
    "box_size = 1.\n",
    "dx =  1.0*box_size / n\n",
    "dy = 1.0*box_size / n\n",
    "g = 1. # Gravity\n",
    "dt = dx / 100.\n",
    "t = 0\n",
    "nt = int(t/dt) + 1\n",
    "\n",
    "\n",
    "x = np.linspace(0, 99, n)\n",
    "y = np.linspace(0, 99, n)"
   ]
  },
  {
   "cell_type": "code",
   "execution_count": 5,
   "metadata": {
    "collapsed": true
   },
   "outputs": [],
   "source": [
    "def computeH(n, eta_start):\n",
    "    \n",
    "    h = eta_start\n",
    "    \n",
    "    u = np.zeros((n,n))\n",
    "    \n",
    "    v = np.zeros((n,n))\n",
    "    \n",
    "    return np.array([h, u, v])"
   ]
  },
  {
   "cell_type": "code",
   "execution_count": 6,
   "metadata": {
    "collapsed": true
   },
   "outputs": [],
   "source": [
    "H = computeH(n, eta_start)"
   ]
  },
  {
   "cell_type": "code",
   "execution_count": 7,
   "metadata": {
    "collapsed": true
   },
   "outputs": [],
   "source": [
    "def computeU(H):\n",
    "    \n",
    "    U1 = H[1]\n",
    "    \n",
    "    U2 = H[0]\n",
    "    \n",
    "    U3 = np.zeros((n,n))\n",
    "    \n",
    "    return np.array([U1, g*U2, U3])"
   ]
  },
  {
   "cell_type": "code",
   "execution_count": 8,
   "metadata": {
    "collapsed": true
   },
   "outputs": [],
   "source": [
    "U = computeU(H)"
   ]
  },
  {
   "cell_type": "code",
   "execution_count": 9,
   "metadata": {
    "collapsed": true
   },
   "outputs": [],
   "source": [
    "def computeV(H):\n",
    "    \n",
    "    V1 = H[2]\n",
    "    \n",
    "    V2 = np.zeros((n,n))\n",
    "    \n",
    "    V3 = H[0]\n",
    "    \n",
    "    return np.array([V1, V2, g*V3])"
   ]
  },
  {
   "cell_type": "code",
   "execution_count": 10,
   "metadata": {
    "collapsed": true
   },
   "outputs": [],
   "source": [
    "V = computeV(H)"
   ]
  },
  {
   "cell_type": "code",
   "execution_count": 11,
   "metadata": {
    "collapsed": true
   },
   "outputs": [],
   "source": [
    "H_n = np.zeros((3, nt, n, n))\n",
    "\n",
    "for t in range(0, nt):\n",
    "    H_n[:,t,:,:] = H[:,:,:]\n",
    "    \n",
    "for t in range(1,nt):\n",
    "    U = computeU(H)\n",
    "    V = computeV(H)\n",
    "    H_n[:,t,1:-1,1:-1] = H[:,1:-1,1:-1] + dt*( (U[:,2:,1:-1] - U[:,:-2,1:-1])/(2*dx) + \\\n",
    "                                              (V[:,1:-1,2:] - V[:,1:-1,:-2])/(2*dy) )\n",
    "    H = H_n[:,t,:,:].copy()\n",
    "    \n",
    "    "
   ]
  },
  {
   "cell_type": "code",
   "execution_count": 12,
   "metadata": {},
   "outputs": [
    {
     "data": {
      "text/plain": [
       "<matplotlib.colorbar.Colorbar at 0x1147b47b8>"
      ]
     },
     "execution_count": 12,
     "metadata": {},
     "output_type": "execute_result"
    },
    {
     "data": {
      "image/png": "[encoded data removed]",
      "text/plain": [
       "<matplotlib.figure.Figure at 0x10a0e7710>"
      ]
     },
     "metadata": {},
     "output_type": "display_data"
    }
   ],
   "source": [
    "imshow(H[0]); colorbar()"
   ]
  },
  {
   "cell_type": "code",
   "execution_count": 24,
   "metadata": {},
   "outputs": [
    {
     "name": "stdout",
     "output_type": "stream",
     "text": [
      "Variable    Type        Data/Info\n",
      "---------------------------------\n",
      "H           ndarray     3x100x100: 30000 elems, type `float64`, 240000 bytes (234.375 kb)\n",
      "H_n         ndarray     3x9001x100x100: 270030000 elems, type `float64`, 2160240000 bytes (2060.1654052734375 Mb)\n",
      "U           ndarray     3x100x100: 30000 elems, type `float64`, 240000 bytes (234.375 kb)\n",
      "V           ndarray     3x100x100: 30000 elems, type `float64`, 240000 bytes (234.375 kb)\n",
      "box_size    float       1.0\n",
      "colorbar    function    <function colorbar at 0x1158e4ae8>\n",
      "computeH    function    <function computeH at 0x115915f28>\n",
      "computeU    function    <function computeU at 0x117b6f158>\n",
      "computeV    function    <function computeV at 0x117b6f510>\n",
      "droplet_x   float       50.0\n",
      "droplet_y   float       50.0\n",
      "dt          float       0.0001\n",
      "dx          float       0.01\n",
      "dy          float       0.01\n",
      "eta_start   ndarray     100x100: 10000 elems, type `float64`, 80000 bytes\n",
      "figure      function    <function figure at 0x11586fae8>\n",
      "g           float       1.0\n",
      "imshow      function    <function imshow at 0x1158e5f28>\n",
      "n           int         100\n",
      "np          module      <module 'numpy' from '/Us<...>kages/numpy/__init__.py'>\n",
      "nt          int         9001\n",
      "rr          ndarray     100x100: 10000 elems, type `float64`, 80000 bytes\n",
      "t           int         9000\n",
      "title       function    <function title at 0x1158e4048>\n",
      "u0          ndarray     100x100: 10000 elems, type `float64`, 80000 bytes\n",
      "v0          ndarray     100x100: 10000 elems, type `float64`, 80000 bytes\n",
      "x           ndarray     100: 100 elems, type `float64`, 800 bytes\n",
      "y           ndarray     100: 100 elems, type `float64`, 800 bytes\n"
     ]
    }
   ],
   "source": [
    "whos"
   ]
  },
  {
   "cell_type": "code",
   "execution_count": null,
   "metadata": {
    "collapsed": true
   },
   "outputs": [],
   "source": []
  }
 ],
 "metadata": {
  "kernelspec": {
   "display_name": "Python 3",
   "language": "python",
   "name": "python3"
  },
  "language_info": {
   "codemirror_mode": {
    "name": "ipython",
    "version": 3
   },
   "file_extension": ".py",
   "mimetype": "text/x-python",
   "name": "python",
   "nbconvert_exporter": "python",
   "pygments_lexer": "ipython3",
   "version": "3.6.3"
  }
 },
 "nbformat": 4,
 "nbformat_minor": 2
}
