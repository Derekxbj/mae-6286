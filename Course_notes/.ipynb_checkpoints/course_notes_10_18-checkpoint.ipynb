{
 "cells": [
  {
   "cell_type": "code",
   "execution_count": 6,
   "metadata": {},
   "outputs": [
    {
     "data": {
      "image/png": "[encoded data removed]",
      "text/plain": [
       "<matplotlib.figure.Figure at 0x114efb978>"
      ]
     },
     "metadata": {},
     "output_type": "display_data"
    }
   ],
   "source": [
    "import matplotlib\n",
    "import bqplot\n",
    "import numpy as np\n",
    "import bqplot.pyplot as bqplt\n",
    "import matplotlib.pyplot as plt\n",
    "import time\n",
    "from bqplot import LinearScale, Lines, Axis, Figure\n",
    "from ipywidgets import IntSlider, FloatSlider, HBox, VBox, Play, jslink\n",
    "%matplotlib inline\n",
    "a = 1.0\n",
    "m = 50\n",
    "dx = 1./m\n",
    "x = np.arange(-dx/2, 1.+dx/2, dx)\n",
    "t = 0.\n",
    "T = 0.5\n",
    "dt = 0.8 * dx / a\n",
    "\n",
    "Q = np.exp(-200*(x-0.2)**2)\n",
    "Qnew1 = np.empty(Q.shape)\n",
    "Qnew2 = np.empty(Q.shape)\n",
    "\n",
    "x_sc = LinearScale()\n",
    "y_sc = LinearScale(min=0, max=1.0)\n",
    "\n",
    "ax_x = Axis(label='X', scale=x_sc, grid_lines='solid')\n",
    "ax_y = Axis(label='Y', scale=y_sc, orientation = 'vertical', grid_lines = 'solid')\n",
    "\n",
    "lines = [Lines(x= x, y = Q, scales = {'x':x_sc, 'y':y_sc})]\n",
    "\n",
    "plt.plot(x, Q)\n",
    "\n",
    "while t < T:\n",
    "    \n",
    "    Qnew1[0] = Q[1]\n",
    "    Qnew1[-1] = Q[-2]\n",
    "    Qnew2[0] = Q[1]\n",
    "    Qnew2[-1] = Q[-2]\n",
    "    \n",
    "    for i in range(1, len(x)-1):\n",
    "        Qnew1[i] = Q[i] - a*dt/dx * (Q[i]-Q[i-1])\n",
    "        Qnew2[i] = (Q[i-1] + Q[i+1])/2 - a*dt/(2*dx)*(Q[i+1]-Q[i-1])\n",
    "        \n",
    "    Q1 = Qnew1.copy()\n",
    "    Q2 = Qnew2.copy()\n",
    "    t = t + dt\n",
    "    lines[0].y = Q1\n",
    "    lines[0].y = Q2\n",
    "    plt.plot(x, Q1)\n",
    "    plt.plot(x, Q2)\n",
    "    time.sleep(0.1)"
   ]
  },
  {
   "cell_type": "code",
   "execution_count": 7,
   "metadata": {},
   "outputs": [
    {
     "ename": "NameError",
     "evalue": "name 'mpl' is not defined",
     "output_type": "error",
     "traceback": [
      "\u001b[0;31m---------------------------------------------------------------------------\u001b[0m",
      "\u001b[0;31mNameError\u001b[0m                                 Traceback (most recent call last)",
      "\u001b[0;32m<ipython-input-7-c0f864bbdd60>\u001b[0m in \u001b[0;36m<module>\u001b[0;34m()\u001b[0m\n\u001b[1;32m      8\u001b[0m \u001b[0;32mfrom\u001b[0m \u001b[0mipywidgets\u001b[0m \u001b[0;32mimport\u001b[0m \u001b[0mIntSlider\u001b[0m\u001b[0;34m,\u001b[0m \u001b[0mFloatSlider\u001b[0m\u001b[0;34m,\u001b[0m \u001b[0mHBox\u001b[0m\u001b[0;34m,\u001b[0m \u001b[0mVBox\u001b[0m\u001b[0;34m,\u001b[0m \u001b[0mPlay\u001b[0m\u001b[0;34m,\u001b[0m \u001b[0mjslink\u001b[0m\u001b[0;34m\u001b[0m\u001b[0m\n\u001b[1;32m      9\u001b[0m \u001b[0mget_ipython\u001b[0m\u001b[0;34m(\u001b[0m\u001b[0;34m)\u001b[0m\u001b[0;34m.\u001b[0m\u001b[0mmagic\u001b[0m\u001b[0;34m(\u001b[0m\u001b[0;34m'matplotlib inline'\u001b[0m\u001b[0;34m)\u001b[0m\u001b[0;34m\u001b[0m\u001b[0m\n\u001b[0;32m---> 10\u001b[0;31m \u001b[0mmpl\u001b[0m\u001b[0;34m.\u001b[0m\u001b[0mrcParams\u001b[0m\u001b[0;34m[\u001b[0m\u001b[0;34m'font.size'\u001b[0m\u001b[0;34m]\u001b[0m \u001b[0;34m=\u001b[0m \u001b[0;36m20\u001b[0m\u001b[0;34m\u001b[0m\u001b[0m\n\u001b[0m",
      "\u001b[0;31mNameError\u001b[0m: name 'mpl' is not defined"
     ]
    }
   ],
   "source": [
    "from matplotlib import rcParams\n",
    "import matplotlib\n",
    "import bqplot\n",
    "import numpy as np\n",
    "import bqplot.pyplot as bqplt\n",
    "import matplotlib.pyplot as plt\n",
    "import time\n",
    "from bqplot import LinearScale, Lines, Axis, Figure\n",
    "from ipywidgets import IntSlider, FloatSlider, HBox, VBox, Play, jslink\n",
    "%matplotlib inline\n",
    "mpl.rcParams['font.size'] = 20\n"
   ]
  },
  {
   "cell_type": "code",
   "execution_count": null,
   "metadata": {
    "collapsed": true
   },
   "outputs": [],
   "source": []
  },
  {
   "cell_type": "code",
   "execution_count": 78,
   "metadata": {
    "collapsed": true
   },
   "outputs": [],
   "source": [
    "m = 400\n",
    "dx = 1./m\n",
    "x = np.arange(-dx/2, 1.0+dx/2, dx)\n",
    "\n",
    "t = 0\n",
    "T = 0.5\n",
    "dt = 0.9*dx\n",
    "\n",
    "Q = 0.9*np.exp(-100*(x - 0.5)**2)\n",
    "Qnew = np.empty(Q.shape)\n",
    "\n",
    "QQ = [Q]\n",
    "\n",
    "while t < T:\n",
    "    Qnew[1:-1] = 0.5*(Q[:-2] + Q[2:]) - \\\n",
    "                0.5 * dt/dx * (Q[2:]*(1 - Q[2:]) - Q[:-2]*(1 - Q[:-2]))\n",
    "    Q = Qnew.copy()\n",
    "    Q[0] = Q[-2]\n",
    "    Q[-1] = Q[1]\n",
    "    t = t + dt\n",
    "    QQ.append(Q)"
   ]
  },
  {
   "cell_type": "code",
   "execution_count": 58,
   "metadata": {
    "collapsed": true
   },
   "outputs": [],
   "source": [
    "q = iter(QQ)"
   ]
  },
  {
   "cell_type": "code",
   "execution_count": 73,
   "metadata": {},
   "outputs": [
    {
     "data": {
      "text/plain": [
       "[<matplotlib.lines.Line2D at 0x1139e2f60>]"
      ]
     },
     "execution_count": 73,
     "metadata": {},
     "output_type": "execute_result"
    },
    {
     "data": {
      "image/png": "[encoded data removed]",
      "text/plain": [
       "<matplotlib.figure.Figure at 0x11316f390>"
      ]
     },
     "metadata": {},
     "output_type": "display_data"
    }
   ],
   "source": [
    "plt.plot(x, next(q))"
   ]
  },
  {
   "cell_type": "code",
   "execution_count": 26,
   "metadata": {},
   "outputs": [
    {
     "data": {
      "text/plain": [
       "[<matplotlib.lines.Line2D at 0x10fb11c50>]"
      ]
     },
     "execution_count": 26,
     "metadata": {},
     "output_type": "execute_result"
    },
    {
     "data": {
      "image/png": "[encoded data removed]",
      "text/plain": [
       "<matplotlib.figure.Figure at 0x10fc52470>"
      ]
     },
     "metadata": {},
     "output_type": "display_data"
    }
   ],
   "source": [
    "plt.plot(x, QQ[0])"
   ]
  },
  {
   "cell_type": "code",
   "execution_count": 22,
   "metadata": {},
   "outputs": [
    {
     "data": {
      "text/plain": [
       "[<matplotlib.lines.Line2D at 0x10fce05f8>]"
      ]
     },
     "execution_count": 22,
     "metadata": {},
     "output_type": "execute_result"
    },
    {
     "data": {
      "image/png": "[encoded data removed]",
      "text/plain": [
       "<matplotlib.figure.Figure at 0x10fc290f0>"
      ]
     },
     "metadata": {},
     "output_type": "display_data"
    }
   ],
   "source": [
    "plt.plot(x, QQ[-1])"
   ]
  },
  {
   "cell_type": "code",
   "execution_count": 79,
   "metadata": {},
   "outputs": [
    {
     "data": {
      "application/vnd.jupyter.widget-view+json": {
       "model_id": "9771c0955a2f4c8c95748880c3d796b6",
       "version_major": 2,
       "version_minor": 0
      },
      "text/html": [
       "<p>Failed to display Jupyter Widget of type <code>VBox</code>.</p>\n",
       "<p>\n",
       "  If you're reading this message in Jupyter Notebook or JupyterLab, it may mean\n",
       "  that the widgets JavaScript is still loading. If this message persists, it\n",
       "  likely means that the widgets JavaScript library is either not installed or\n",
       "  not enabled. See the <a href=\"https://ipywidgets.readthedocs.io/en/stable/user_install.html\">Jupyter\n",
       "  Widgets Documentation</a> for setup instructions.\n",
       "</p>\n",
       "<p>\n",
       "  If you're reading this message in another notebook frontend (for example, a static\n",
       "  rendering on GitHub or <a href=\"https://nbviewer.jupyter.org/\">NBViewer</a>),\n",
       "  it may mean that your frontend doesn't currently support widgets.\n",
       "</p>\n"
      ],
      "text/plain": [
       "VBox(children=(HBox(children=(IntSlider(value=0, description='Frame', max=224), Play(value=0, max=224))), Figure(axes=[Axis(scale=LinearScale()), Axis(orientation='vertical', scale=LinearScale())], fig_margin={'top': 60, 'bottom': 60, 'left': 60, 'right': 60}, layout=Layout(min_width='125px'), marks=[Lines(colors=['#1f77b4', '#ff7f0e', '#2ca02c', '#d62728', '#9467bd', '#8c564b', '#e377c2', '#7f7f7f', '#bcbd22', '#17becf'], interactions={'hover': 'tooltip'}, scales={'x': LinearScale(), 'y': LinearScale()}, scales_metadata={'x': {'orientation': 'horizontal', 'dimension': 'x'}, 'y': {'orientation': 'vertical', 'dimension': 'y'}, 'color': {'dimension': 'color'}}, tooltip_style={'opacity': 0.9}, x=array([-0.00125,  0.00125,  0.00375,  0.00625,  0.00875,  0.01125,\n",
       "        0.01375,  0.01625,  0.01875,  0.02125,  0.02375,  0.02625,\n",
       "        0.02875,  0.03125,  0.03375,  0.03625,  0.03875,  0.04125,\n",
       "        0.04375,  0.04625,  0.04875,  0.05125,  0.05375,  0.05625,\n",
       "        0.05875,  0.06125,  0.06375,  0.06625,  0.06875,  0.07125,\n",
       "        0.07375,  0.07625,  0.07875,  0.08125,  0.08375,  0.08625,\n",
       "        0.08875,  0.09125,  0.09375,  0.09625,  0.09875,  0.10125,\n",
       "        0.10375,  0.10625,  0.10875,  0.11125,  0.11375,  0.11625,\n",
       "        0.11875,  0.12125,  0.12375,  0.12625,  0.12875,  0.13125,\n",
       "        0.13375,  0.13625,  0.13875,  0.14125,  0.14375,  0.14625,\n",
       "        0.14875,  0.15125,  0.15375,  0.15625,  0.15875,  0.16125,\n",
       "        0.16375,  0.16625,  0.16875,  0.17125,  0.17375,  0.17625,\n",
       "        0.17875,  0.18125,  0.18375,  0.18625,  0.18875,  0.19125,\n",
       "        0.19375,  0.19625,  0.19875,  0.20125,  0.20375,  0.20625,\n",
       "        0.20875,  0.21125,  0.21375,  0.21625,  0.21875,  0.22125,\n",
       "        0.22375,  0.22625,  0.22875,  0.23125,  0.23375,  0.23625,\n",
       "        0.23875,  0.24125,  0.24375,  0.24625,  0.24875,  0.25125,\n",
       "        0.25375,  0.25625,  0.25875,  0.26125,  0.26375,  0.26625,\n",
       "        0.26875,  0.27125,  0.27375,  0.27625,  0.27875,  0.28125,\n",
       "        0.28375,  0.28625,  0.28875,  0.29125,  0.29375,  0.29625,\n",
       "        0.29875,  0.30125,  0.30375,  0.30625,  0.30875,  0.31125,\n",
       "        0.31375,  0.31625,  0.31875,  0.32125,  0.32375,  0.32625,\n",
       "        0.32875,  0.33125,  0.33375,  0.33625,  0.33875,  0.34125,\n",
       "        0.34375,  0.34625,  0.34875,  0.35125,  0.35375,  0.35625,\n",
       "        0.35875,  0.36125,  0.36375,  0.36625,  0.36875,  0.37125,\n",
       "        0.37375,  0.37625,  0.37875,  0.38125,  0.38375,  0.38625,\n",
       "        0.38875,  0.39125,  0.39375,  0.39625,  0.39875,  0.40125,\n",
       "        0.40375,  0.40625,  0.40875,  0.41125,  0.41375,  0.41625,\n",
       "        0.41875,  0.42125,  0.42375,  0.42625,  0.42875,  0.43125,\n",
       "        0.43375,  0.43625,  0.43875,  0.44125,  0.44375,  0.44625,\n",
       "        0.44875,  0.45125,  0.45375,  0.45625,  0.45875,  0.46125,\n",
       "        0.46375,  0.46625,  0.46875,  0.47125,  0.47375,  0.47625,\n",
       "        0.47875,  0.48125,  0.48375,  0.48625,  0.48875,  0.49125,\n",
       "        0.49375,  0.49625,  0.49875,  0.50125,  0.50375,  0.50625,\n",
       "        0.50875,  0.51125,  0.51375,  0.51625,  0.51875,  0.52125,\n",
       "        0.52375,  0.52625,  0.52875,  0.53125,  0.53375,  0.53625,\n",
       "        0.53875,  0.54125,  0.54375,  0.54625,  0.54875,  0.55125,\n",
       "        0.55375,  0.55625,  0.55875,  0.56125,  0.56375,  0.56625,\n",
       "        0.56875,  0.57125,  0.57375,  0.57625,  0.57875,  0.58125,\n",
       "        0.58375,  0.58625,  0.58875,  0.59125,  0.59375,  0.59625,\n",
       "        0.59875,  0.60125,  0.60375,  0.60625,  0.60875,  0.61125,\n",
       "        0.61375,  0.61625,  0.61875,  0.62125,  0.62375,  0.62625,\n",
       "        0.62875,  0.63125,  0.63375,  0.63625,  0.63875,  0.64125,\n",
       "        0.64375,  0.64625,  0.64875,  0.65125,  0.65375,  0.65625,\n",
       "        0.65875,  0.66125,  0.66375,  0.66625,  0.66875,  0.67125,\n",
       "        0.67375,  0.67625,  0.67875,  0.68125,  0.68375,  0.68625,\n",
       "        0.68875,  0.69125,  0.69375,  0.69625,  0.69875,  0.70125,\n",
       "        0.70375,  0.70625,  0.70875,  0.71125,  0.71375,  0.71625,\n",
       "        0.71875,  0.72125,  0.72375,  0.72625,  0.72875,  0.73125,\n",
       "        0.73375,  0.73625,  0.73875,  0.74125,  0.74375,  0.74625,\n",
       "        0.74875,  0.75125,  0.75375,  0.75625,  0.75875,  0.76125,\n",
       "        0.76375,  0.76625,  0.76875,  0.77125,  0.77375,  0.77625,\n",
       "        0.77875,  0.78125,  0.78375,  0.78625,  0.78875,  0.79125,\n",
       "        0.79375,  0.79625,  0.79875,  0.80125,  0.80375,  0.80625,\n",
       "        0.80875,  0.81125,  0.81375,  0.81625,  0.81875,  0.82125,\n",
       "        0.82375,  0.82625,  0.82875,  0.83125,  0.83375,  0.83625,\n",
       "        0.83875,  0.84125,  0.84375,  0.84625,  0.84875,  0.85125,\n",
       "        0.85375,  0.85625,  0.85875,  0.86125,  0.86375,  0.86625,\n",
       "        0.86875,  0.87125,  0.87375,  0.87625,  0.87875,  0.88125,\n",
       "        0.88375,  0.88625,  0.88875,  0.89125,  0.89375,  0.89625,\n",
       "        0.89875,  0.90125,  0.90375,  0.90625,  0.90875,  0.91125,\n",
       "        0.91375,  0.91625,  0.91875,  0.92125,  0.92375,  0.92625,\n",
       "        0.92875,  0.93125,  0.93375,  0.93625,  0.93875,  0.94125,\n",
       "        0.94375,  0.94625,  0.94875,  0.95125,  0.95375,  0.95625,\n",
       "        0.95875,  0.96125,  0.96375,  0.96625,  0.96875,  0.97125,\n",
       "        0.97375,  0.97625,  0.97875,  0.98125,  0.98375,  0.98625,\n",
       "        0.98875,  0.99125,  0.99375,  0.99625,  0.99875]), y=array([  1.10287373e-11,   1.41611790e-11,   1.81605989e-11,\n",
       "         2.32604467e-11,   2.97552132e-11,   3.80158946e-11,\n",
       "         4.85092427e-11,   6.18216947e-11,   7.86890768e-11,\n",
       "         1.00033422e-10,   1.27008543e-10,   1.61056357e-10,\n",
       "         2.03976410e-10,   2.58011550e-10,   3.25953375e-10,\n",
       "         4.11271817e-10,   5.18274150e-10,   6.52299851e-10,\n",
       "         8.19959009e-10,   1.02942364e-09,   1.29078308e-09,\n",
       "         1.61647697e-09,   2.02182197e-09,   2.52565156e-09,\n",
       "         3.15109204e-09,   3.92650246e-09,   4.88661127e-09,\n",
       "         6.07388888e-09,   7.54020275e-09,   9.34881008e-09,\n",
       "         1.15767534e-08,   1.43177363e-08,   1.76855703e-08,\n",
       "         2.18183001e-08,   2.68831332e-08,   3.30823223e-08,\n",
       "         4.06601733e-08,   4.99113819e-08,   6.11909358e-08,\n",
       "         7.49258585e-08,   9.16291151e-08,   1.11916054e-07,\n",
       "         1.36523815e-07,   1.66334209e-07,   2.02400634e-07,\n",
       "         2.45979715e-07,   2.98568406e-07,   3.61947463e-07,\n",
       "         4.38232272e-07,   5.29932199e-07,   6.40019773e-07,\n",
       "         7.72011210e-07,   9.30059973e-07,   1.11906531e-06,\n",
       "         1.34479797e-06,   1.61404555e-06,   1.93478032e-06,\n",
       "         2.31635260e-06,   2.76971324e-06,   3.30766927e-06,\n",
       "         3.94517689e-06,   4.69967704e-06,   5.59147878e-06,\n",
       "         6.64419667e-06,   7.88524895e-06,   9.34642383e-06,\n",
       "         1.10645222e-05,   1.30820857e-05,   1.54482201e-05,\n",
       "         1.82195245e-05,   2.14611386e-05,   2.52479204e-05,\n",
       "         2.96657681e-05,   3.48131014e-05,   4.08025179e-05,\n",
       "         4.77626423e-05,   5.58401862e-05,   6.52022379e-05,\n",
       "         7.60388043e-05,   8.85656241e-05,   1.03027278e-04,\n",
       "         1.19700620e-04,   1.38898547e-04,   1.60974150e-04,\n",
       "         1.86325248e-04,   2.15399360e-04,   2.48699115e-04,\n",
       "         2.86788151e-04,   3.30297510e-04,   3.79932571e-04,\n",
       "         4.36480540e-04,   5.00818516e-04,   5.73922169e-04,\n",
       "         6.56875033e-04,   7.50878453e-04,   8.57262174e-04,\n",
       "         9.77495602e-04,   1.11319974e-03,   1.26615977e-03,\n",
       "         1.43833834e-03,   1.63188945e-03,   1.84917300e-03,\n",
       "         2.09276993e-03,   2.36549786e-03,   2.67042734e-03,\n",
       "         3.01089842e-03,   3.39053767e-03,   3.81327543e-03,\n",
       "         4.28336328e-03,   4.80539148e-03,   5.38430647e-03,\n",
       "         6.02542799e-03,   6.73446596e-03,   7.51753667e-03,\n",
       "         8.38117830e-03,   9.33236544e-03,   1.03785224e-02,\n",
       "         1.15275349e-02,   1.27877606e-02,   1.41680370e-02,\n",
       "         1.56776873e-02,   1.73265241e-02,   1.91248496e-02,\n",
       "         2.10834530e-02,   2.32136046e-02,   2.55270459e-02,\n",
       "         2.80359752e-02,   3.07530296e-02,   3.36912619e-02,\n",
       "         3.68641124e-02,   4.02853755e-02,   4.39691615e-02,\n",
       "         4.79298514e-02,   5.21820473e-02,   5.67405154e-02,\n",
       "         6.16201245e-02,   6.68357765e-02,   7.24023323e-02,\n",
       "         7.83345309e-02,   8.46469023e-02,   9.13536751e-02,\n",
       "         9.84686785e-02,   1.06005239e-01,   1.13976070e-01,\n",
       "         1.22393163e-01,   1.31267669e-01,   1.40609777e-01,\n",
       "         1.50428594e-01,   1.60732021e-01,   1.71526627e-01,\n",
       "         1.82817523e-01,   1.94608240e-01,   2.06900606e-01,\n",
       "         2.19694625e-01,   2.32988364e-01,   2.46777844e-01,\n",
       "         2.61056932e-01,   2.75817251e-01,   2.91048091e-01,\n",
       "         3.06736328e-01,   3.22866367e-01,   3.39420080e-01,\n",
       "         3.56376770e-01,   3.73713146e-01,   3.91403311e-01,\n",
       "         4.09418767e-01,   4.27728442e-01,   4.46298724e-01,\n",
       "         4.65093525e-01,   4.84074351e-01,   5.03200407e-01,\n",
       "         5.22428699e-01,   5.41714177e-01,   5.61009878e-01,\n",
       "         5.80267099e-01,   5.99435581e-01,   6.18463708e-01,\n",
       "         6.37298732e-01,   6.55886997e-01,   6.74174186e-01,\n",
       "         6.92105578e-01,   7.09626314e-01,   7.26681670e-01,\n",
       "         7.43217336e-01,   7.59179704e-01,   7.74516151e-01,\n",
       "         7.89175329e-01,   8.03107448e-01,   8.16264556e-01,\n",
       "         8.28600815e-01,   8.40072765e-01,   8.50639580e-01,\n",
       "         8.60263307e-01,   8.68909097e-01,   8.76545412e-01,\n",
       "         8.83144217e-01,   8.88681153e-01,   8.93135686e-01,\n",
       "         8.96491233e-01,   8.98735264e-01,   8.99859386e-01,\n",
       "         8.99859386e-01,   8.98735264e-01,   8.96491233e-01,\n",
       "         8.93135686e-01,   8.88681153e-01,   8.83144217e-01,\n",
       "         8.76545412e-01,   8.68909097e-01,   8.60263307e-01,\n",
       "         8.50639580e-01,   8.40072765e-01,   8.28600815e-01,\n",
       "         8.16264556e-01,   8.03107448e-01,   7.89175329e-01,\n",
       "         7.74516151e-01,   7.59179704e-01,   7.43217336e-01,\n",
       "         7.26681670e-01,   7.09626314e-01,   6.92105578e-01,\n",
       "         6.74174186e-01,   6.55886997e-01,   6.37298732e-01,\n",
       "         6.18463708e-01,   5.99435581e-01,   5.80267099e-01,\n",
       "         5.61009878e-01,   5.41714177e-01,   5.22428699e-01,\n",
       "         5.03200407e-01,   4.84074351e-01,   4.65093525e-01,\n",
       "         4.46298724e-01,   4.27728442e-01,   4.09418767e-01,\n",
       "         3.91403311e-01,   3.73713146e-01,   3.56376770e-01,\n",
       "         3.39420080e-01,   3.22866367e-01,   3.06736328e-01,\n",
       "         2.91048091e-01,   2.75817251e-01,   2.61056932e-01,\n",
       "         2.46777844e-01,   2.32988364e-01,   2.19694625e-01,\n",
       "         2.06900606e-01,   1.94608240e-01,   1.82817523e-01,\n",
       "         1.71526627e-01,   1.60732021e-01,   1.50428594e-01,\n",
       "         1.40609777e-01,   1.31267669e-01,   1.22393163e-01,\n",
       "         1.13976070e-01,   1.06005239e-01,   9.84686785e-02,\n",
       "         9.13536751e-02,   8.46469023e-02,   7.83345309e-02,\n",
       "         7.24023323e-02,   6.68357765e-02,   6.16201245e-02,\n",
       "         5.67405154e-02,   5.21820473e-02,   4.79298514e-02,\n",
       "         4.39691615e-02,   4.02853755e-02,   3.68641124e-02,\n",
       "         3.36912619e-02,   3.07530296e-02,   2.80359752e-02,\n",
       "         2.55270459e-02,   2.32136046e-02,   2.10834530e-02,\n",
       "         1.91248496e-02,   1.73265241e-02,   1.56776873e-02,\n",
       "         1.41680370e-02,   1.27877606e-02,   1.15275349e-02,\n",
       "         1.03785224e-02,   9.33236544e-03,   8.38117830e-03,\n",
       "         7.51753667e-03,   6.73446596e-03,   6.02542799e-03,\n",
       "         5.38430647e-03,   4.80539148e-03,   4.28336328e-03,\n",
       "         3.81327543e-03,   3.39053767e-03,   3.01089842e-03,\n",
       "         2.67042734e-03,   2.36549786e-03,   2.09276993e-03,\n",
       "         1.84917300e-03,   1.63188945e-03,   1.43833834e-03,\n",
       "         1.26615977e-03,   1.11319974e-03,   9.77495602e-04,\n",
       "         8.57262174e-04,   7.50878453e-04,   6.56875033e-04,\n",
       "         5.73922169e-04,   5.00818516e-04,   4.36480540e-04,\n",
       "         3.79932571e-04,   3.30297510e-04,   2.86788151e-04,\n",
       "         2.48699115e-04,   2.15399360e-04,   1.86325248e-04,\n",
       "         1.60974150e-04,   1.38898547e-04,   1.19700620e-04,\n",
       "         1.03027278e-04,   8.85656241e-05,   7.60388043e-05,\n",
       "         6.52022379e-05,   5.58401862e-05,   4.77626423e-05,\n",
       "         4.08025179e-05,   3.48131014e-05,   2.96657681e-05,\n",
       "         2.52479204e-05,   2.14611386e-05,   1.82195245e-05,\n",
       "         1.54482201e-05,   1.30820857e-05,   1.10645222e-05,\n",
       "         9.34642383e-06,   7.88524895e-06,   6.64419667e-06,\n",
       "         5.59147878e-06,   4.69967704e-06,   3.94517689e-06,\n",
       "         3.30766927e-06,   2.76971324e-06,   2.31635260e-06,\n",
       "         1.93478032e-06,   1.61404555e-06,   1.34479797e-06,\n",
       "         1.11906531e-06,   9.30059973e-07,   7.72011210e-07,\n",
       "         6.40019773e-07,   5.29932199e-07,   4.38232272e-07,\n",
       "         3.61947463e-07,   2.98568406e-07,   2.45979715e-07,\n",
       "         2.02400634e-07,   1.66334209e-07,   1.36523815e-07,\n",
       "         1.11916054e-07,   9.16291151e-08,   7.49258585e-08,\n",
       "         6.11909358e-08,   4.99113819e-08,   4.06601733e-08,\n",
       "         3.30823223e-08,   2.68831332e-08,   2.18183001e-08,\n",
       "         1.76855703e-08,   1.43177363e-08,   1.15767534e-08,\n",
       "         9.34881008e-09,   7.54020275e-09,   6.07388888e-09,\n",
       "         4.88661127e-09,   3.92650246e-09,   3.15109204e-09,\n",
       "         2.52565156e-09,   2.02182197e-09,   1.61647697e-09,\n",
       "         1.29078308e-09,   1.02942364e-09,   8.19959009e-10,\n",
       "         6.52299851e-10,   5.18274150e-10,   4.11271817e-10,\n",
       "         3.25953375e-10,   2.58011550e-10,   2.03976410e-10,\n",
       "         1.61056357e-10,   1.27008543e-10,   1.00033422e-10,\n",
       "         7.86890768e-11,   6.18216947e-11,   4.85092427e-11,\n",
       "         3.80158946e-11,   2.97552132e-11,   2.32604467e-11,\n",
       "         1.81605989e-11,   1.41611790e-11]))], scale_x=LinearScale(allow_padding=False, max=1.0, min=0.0), scale_y=LinearScale(allow_padding=False, max=1.0, min=0.0))))"
      ]
     },
     "metadata": {},
     "output_type": "display_data"
    },
    {
     "data": {
      "image/png": "[encoded data removed]",
      "text/plain": [
       "<matplotlib.figure.Figure at 0x113c16a20>"
      ]
     },
     "metadata": {},
     "output_type": "display_data"
    }
   ],
   "source": [
    "from bqplot import LinearScale, Lines, Axis, Figure\n",
    "from ipywidgets import IntSlider, FloatSlider, HBox, VBox, Play, jslink\n",
    "\n",
    "import bqplot.pyplot as bqplt\n",
    "\n",
    "fig = bqplt.figure(figsize=(8,4))      # Create an empty figure\n",
    "plt.axes()\n",
    "traffic = bqplt.plot(x, QQ[0])\n",
    "\n",
    "frame_slider = IntSlider(min=0, max=len(QQ), step=1, description='Frame', value=0)\n",
    "\n",
    "def frame_changed(change):\n",
    "    t = frame_slider.value\n",
    "    traffic.y = QQ[t]\n",
    "\n",
    "frame_slider.observe(frame_changed, 'value')\n",
    "play_button = Play(min=0, max=len(QQ), step=1)\n",
    "\n",
    "jslink((play_button, 'value'), (frame_slider, 'value'))\n",
    "VBox([HBox([frame_slider, play_button]), fig])"
   ]
  },
  {
   "cell_type": "code",
   "execution_count": 80,
   "metadata": {
    "collapsed": true
   },
   "outputs": [],
   "source": [
    "m = 400\n",
    "dx = 1./m\n",
    "x = np.arange(-dx/2, 1.0+dx/2, dx)\n",
    "\n",
    "t = 0\n",
    "T = 0.5\n",
    "dt = 0.9*dx\n",
    "\n",
    "Q = np.empty(x.shape)\n",
    "Q[x<0.8] = 0.2\n",
    "Q[x>=0.8] = 1\n",
    "Qnew = np.empty(Q.shape)\n",
    "\n",
    "QQ = [Q]\n",
    "\n",
    "while t < T:\n",
    "    Qnew[1:-1] = 0.5*(Q[:-2] + Q[2:]) - \\\n",
    "                0.5 * dt/dx * (Q[2:]*(1 - Q[2:]) - Q[:-2]*(1 - Q[:-2]))\n",
    "    Q = Qnew.copy()\n",
    "    Q[0] = Q[-2]\n",
    "    Q[-1] = Q[1]\n",
    "    t = t + dt\n",
    "    QQ.append(Q)"
   ]
  },
  {
   "cell_type": "code",
   "execution_count": 83,
   "metadata": {},
   "outputs": [
    {
     "data": {
      "application/vnd.jupyter.widget-view+json": {
       "model_id": "e2d08718e2784c6f9ed3d111e0318d65",
       "version_major": 2,
       "version_minor": 0
      },
      "text/html": [
       "<p>Failed to display Jupyter Widget of type <code>VBox</code>.</p>\n",
       "<p>\n",
       "  If you're reading this message in Jupyter Notebook or JupyterLab, it may mean\n",
       "  that the widgets JavaScript is still loading. If this message persists, it\n",
       "  likely means that the widgets JavaScript library is either not installed or\n",
       "  not enabled. See the <a href=\"https://ipywidgets.readthedocs.io/en/stable/user_install.html\">Jupyter\n",
       "  Widgets Documentation</a> for setup instructions.\n",
       "</p>\n",
       "<p>\n",
       "  If you're reading this message in another notebook frontend (for example, a static\n",
       "  rendering on GitHub or <a href=\"https://nbviewer.jupyter.org/\">NBViewer</a>),\n",
       "  it may mean that your frontend doesn't currently support widgets.\n",
       "</p>\n"
      ],
      "text/plain": [
       "VBox(children=(HBox(children=(IntSlider(value=0, description='Frame', max=223), Play(value=0, max=224))), Figure(axes=[Axis(scale=LinearScale()), Axis(orientation='vertical', scale=LinearScale())], fig_margin={'top': 60, 'bottom': 60, 'left': 60, 'right': 60}, layout=Layout(min_width='125px'), marks=[Lines(colors=['#1f77b4', '#ff7f0e', '#2ca02c', '#d62728', '#9467bd', '#8c564b', '#e377c2', '#7f7f7f', '#bcbd22', '#17becf'], interactions={'hover': 'tooltip'}, scales={'x': LinearScale(), 'y': LinearScale()}, scales_metadata={'x': {'orientation': 'horizontal', 'dimension': 'x'}, 'y': {'orientation': 'vertical', 'dimension': 'y'}, 'color': {'dimension': 'color'}}, tooltip_style={'opacity': 0.9}, x=array([-0.00125,  0.00125,  0.00375,  0.00625,  0.00875,  0.01125,\n",
       "        0.01375,  0.01625,  0.01875,  0.02125,  0.02375,  0.02625,\n",
       "        0.02875,  0.03125,  0.03375,  0.03625,  0.03875,  0.04125,\n",
       "        0.04375,  0.04625,  0.04875,  0.05125,  0.05375,  0.05625,\n",
       "        0.05875,  0.06125,  0.06375,  0.06625,  0.06875,  0.07125,\n",
       "        0.07375,  0.07625,  0.07875,  0.08125,  0.08375,  0.08625,\n",
       "        0.08875,  0.09125,  0.09375,  0.09625,  0.09875,  0.10125,\n",
       "        0.10375,  0.10625,  0.10875,  0.11125,  0.11375,  0.11625,\n",
       "        0.11875,  0.12125,  0.12375,  0.12625,  0.12875,  0.13125,\n",
       "        0.13375,  0.13625,  0.13875,  0.14125,  0.14375,  0.14625,\n",
       "        0.14875,  0.15125,  0.15375,  0.15625,  0.15875,  0.16125,\n",
       "        0.16375,  0.16625,  0.16875,  0.17125,  0.17375,  0.17625,\n",
       "        0.17875,  0.18125,  0.18375,  0.18625,  0.18875,  0.19125,\n",
       "        0.19375,  0.19625,  0.19875,  0.20125,  0.20375,  0.20625,\n",
       "        0.20875,  0.21125,  0.21375,  0.21625,  0.21875,  0.22125,\n",
       "        0.22375,  0.22625,  0.22875,  0.23125,  0.23375,  0.23625,\n",
       "        0.23875,  0.24125,  0.24375,  0.24625,  0.24875,  0.25125,\n",
       "        0.25375,  0.25625,  0.25875,  0.26125,  0.26375,  0.26625,\n",
       "        0.26875,  0.27125,  0.27375,  0.27625,  0.27875,  0.28125,\n",
       "        0.28375,  0.28625,  0.28875,  0.29125,  0.29375,  0.29625,\n",
       "        0.29875,  0.30125,  0.30375,  0.30625,  0.30875,  0.31125,\n",
       "        0.31375,  0.31625,  0.31875,  0.32125,  0.32375,  0.32625,\n",
       "        0.32875,  0.33125,  0.33375,  0.33625,  0.33875,  0.34125,\n",
       "        0.34375,  0.34625,  0.34875,  0.35125,  0.35375,  0.35625,\n",
       "        0.35875,  0.36125,  0.36375,  0.36625,  0.36875,  0.37125,\n",
       "        0.37375,  0.37625,  0.37875,  0.38125,  0.38375,  0.38625,\n",
       "        0.38875,  0.39125,  0.39375,  0.39625,  0.39875,  0.40125,\n",
       "        0.40375,  0.40625,  0.40875,  0.41125,  0.41375,  0.41625,\n",
       "        0.41875,  0.42125,  0.42375,  0.42625,  0.42875,  0.43125,\n",
       "        0.43375,  0.43625,  0.43875,  0.44125,  0.44375,  0.44625,\n",
       "        0.44875,  0.45125,  0.45375,  0.45625,  0.45875,  0.46125,\n",
       "        0.46375,  0.46625,  0.46875,  0.47125,  0.47375,  0.47625,\n",
       "        0.47875,  0.48125,  0.48375,  0.48625,  0.48875,  0.49125,\n",
       "        0.49375,  0.49625,  0.49875,  0.50125,  0.50375,  0.50625,\n",
       "        0.50875,  0.51125,  0.51375,  0.51625,  0.51875,  0.52125,\n",
       "        0.52375,  0.52625,  0.52875,  0.53125,  0.53375,  0.53625,\n",
       "        0.53875,  0.54125,  0.54375,  0.54625,  0.54875,  0.55125,\n",
       "        0.55375,  0.55625,  0.55875,  0.56125,  0.56375,  0.56625,\n",
       "        0.56875,  0.57125,  0.57375,  0.57625,  0.57875,  0.58125,\n",
       "        0.58375,  0.58625,  0.58875,  0.59125,  0.59375,  0.59625,\n",
       "        0.59875,  0.60125,  0.60375,  0.60625,  0.60875,  0.61125,\n",
       "        0.61375,  0.61625,  0.61875,  0.62125,  0.62375,  0.62625,\n",
       "        0.62875,  0.63125,  0.63375,  0.63625,  0.63875,  0.64125,\n",
       "        0.64375,  0.64625,  0.64875,  0.65125,  0.65375,  0.65625,\n",
       "        0.65875,  0.66125,  0.66375,  0.66625,  0.66875,  0.67125,\n",
       "        0.67375,  0.67625,  0.67875,  0.68125,  0.68375,  0.68625,\n",
       "        0.68875,  0.69125,  0.69375,  0.69625,  0.69875,  0.70125,\n",
       "        0.70375,  0.70625,  0.70875,  0.71125,  0.71375,  0.71625,\n",
       "        0.71875,  0.72125,  0.72375,  0.72625,  0.72875,  0.73125,\n",
       "        0.73375,  0.73625,  0.73875,  0.74125,  0.74375,  0.74625,\n",
       "        0.74875,  0.75125,  0.75375,  0.75625,  0.75875,  0.76125,\n",
       "        0.76375,  0.76625,  0.76875,  0.77125,  0.77375,  0.77625,\n",
       "        0.77875,  0.78125,  0.78375,  0.78625,  0.78875,  0.79125,\n",
       "        0.79375,  0.79625,  0.79875,  0.80125,  0.80375,  0.80625,\n",
       "        0.80875,  0.81125,  0.81375,  0.81625,  0.81875,  0.82125,\n",
       "        0.82375,  0.82625,  0.82875,  0.83125,  0.83375,  0.83625,\n",
       "        0.83875,  0.84125,  0.84375,  0.84625,  0.84875,  0.85125,\n",
       "        0.85375,  0.85625,  0.85875,  0.86125,  0.86375,  0.86625,\n",
       "        0.86875,  0.87125,  0.87375,  0.87625,  0.87875,  0.88125,\n",
       "        0.88375,  0.88625,  0.88875,  0.89125,  0.89375,  0.89625,\n",
       "        0.89875,  0.90125,  0.90375,  0.90625,  0.90875,  0.91125,\n",
       "        0.91375,  0.91625,  0.91875,  0.92125,  0.92375,  0.92625,\n",
       "        0.92875,  0.93125,  0.93375,  0.93625,  0.93875,  0.94125,\n",
       "        0.94375,  0.94625,  0.94875,  0.95125,  0.95375,  0.95625,\n",
       "        0.95875,  0.96125,  0.96375,  0.96625,  0.96875,  0.97125,\n",
       "        0.97375,  0.97625,  0.97875,  0.98125,  0.98375,  0.98625,\n",
       "        0.98875,  0.99125,  0.99375,  0.99625,  0.99875]), y=array([ 0.2,  0.2,  0.2,  0.2,  0.2,  0.2,  0.2,  0.2,  0.2,  0.2,  0.2,\n",
       "        0.2,  0.2,  0.2,  0.2,  0.2,  0.2,  0.2,  0.2,  0.2,  0.2,  0.2,\n",
       "        0.2,  0.2,  0.2,  0.2,  0.2,  0.2,  0.2,  0.2,  0.2,  0.2,  0.2,\n",
       "        0.2,  0.2,  0.2,  0.2,  0.2,  0.2,  0.2,  0.2,  0.2,  0.2,  0.2,\n",
       "        0.2,  0.2,  0.2,  0.2,  0.2,  0.2,  0.2,  0.2,  0.2,  0.2,  0.2,\n",
       "        0.2,  0.2,  0.2,  0.2,  0.2,  0.2,  0.2,  0.2,  0.2,  0.2,  0.2,\n",
       "        0.2,  0.2,  0.2,  0.2,  0.2,  0.2,  0.2,  0.2,  0.2,  0.2,  0.2,\n",
       "        0.2,  0.2,  0.2,  0.2,  0.2,  0.2,  0.2,  0.2,  0.2,  0.2,  0.2,\n",
       "        0.2,  0.2,  0.2,  0.2,  0.2,  0.2,  0.2,  0.2,  0.2,  0.2,  0.2,\n",
       "        0.2,  0.2,  0.2,  0.2,  0.2,  0.2,  0.2,  0.2,  0.2,  0.2,  0.2,\n",
       "        0.2,  0.2,  0.2,  0.2,  0.2,  0.2,  0.2,  0.2,  0.2,  0.2,  0.2,\n",
       "        0.2,  0.2,  0.2,  0.2,  0.2,  0.2,  0.2,  0.2,  0.2,  0.2,  0.2,\n",
       "        0.2,  0.2,  0.2,  0.2,  0.2,  0.2,  0.2,  0.2,  0.2,  0.2,  0.2,\n",
       "        0.2,  0.2,  0.2,  0.2,  0.2,  0.2,  0.2,  0.2,  0.2,  0.2,  0.2,\n",
       "        0.2,  0.2,  0.2,  0.2,  0.2,  0.2,  0.2,  0.2,  0.2,  0.2,  0.2,\n",
       "        0.2,  0.2,  0.2,  0.2,  0.2,  0.2,  0.2,  0.2,  0.2,  0.2,  0.2,\n",
       "        0.2,  0.2,  0.2,  0.2,  0.2,  0.2,  0.2,  0.2,  0.2,  0.2,  0.2,\n",
       "        0.2,  0.2,  0.2,  0.2,  0.2,  0.2,  0.2,  0.2,  0.2,  0.2,  0.2,\n",
       "        0.2,  0.2,  0.2,  0.2,  0.2,  0.2,  0.2,  0.2,  0.2,  0.2,  0.2,\n",
       "        0.2,  0.2,  0.2,  0.2,  0.2,  0.2,  0.2,  0.2,  0.2,  0.2,  0.2,\n",
       "        0.2,  0.2,  0.2,  0.2,  0.2,  0.2,  0.2,  0.2,  0.2,  0.2,  0.2,\n",
       "        0.2,  0.2,  0.2,  0.2,  0.2,  0.2,  0.2,  0.2,  0.2,  0.2,  0.2,\n",
       "        0.2,  0.2,  0.2,  0.2,  0.2,  0.2,  0.2,  0.2,  0.2,  0.2,  0.2,\n",
       "        0.2,  0.2,  0.2,  0.2,  0.2,  0.2,  0.2,  0.2,  0.2,  0.2,  0.2,\n",
       "        0.2,  0.2,  0.2,  0.2,  0.2,  0.2,  0.2,  0.2,  0.2,  0.2,  0.2,\n",
       "        0.2,  0.2,  0.2,  0.2,  0.2,  0.2,  0.2,  0.2,  0.2,  0.2,  0.2,\n",
       "        0.2,  0.2,  0.2,  0.2,  0.2,  0.2,  0.2,  0.2,  0.2,  0.2,  0.2,\n",
       "        0.2,  0.2,  0.2,  0.2,  0.2,  0.2,  0.2,  0.2,  0.2,  0.2,  0.2,\n",
       "        0.2,  0.2,  0.2,  0.2,  0.2,  0.2,  0.2,  0.2,  0.2,  0.2,  0.2,\n",
       "        0.2,  0.2,  1. ,  1. ,  1. ,  1. ,  1. ,  1. ,  1. ,  1. ,  1. ,\n",
       "        1. ,  1. ,  1. ,  1. ,  1. ,  1. ,  1. ,  1. ,  1. ,  1. ,  1. ,\n",
       "        1. ,  1. ,  1. ,  1. ,  1. ,  1. ,  1. ,  1. ,  1. ,  1. ,  1. ,\n",
       "        1. ,  1. ,  1. ,  1. ,  1. ,  1. ,  1. ,  1. ,  1. ,  1. ,  1. ,\n",
       "        1. ,  1. ,  1. ,  1. ,  1. ,  1. ,  1. ,  1. ,  1. ,  1. ,  1. ,\n",
       "        1. ,  1. ,  1. ,  1. ,  1. ,  1. ,  1. ,  1. ,  1. ,  1. ,  1. ,\n",
       "        1. ,  1. ,  1. ,  1. ,  1. ,  1. ,  1. ,  1. ,  1. ,  1. ,  1. ,\n",
       "        1. ,  1. ,  1. ,  1. ,  1. ]))], scale_x=LinearScale(allow_padding=False, max=1.0, min=0.0), scale_y=LinearScale(allow_padding=False, max=1.0, min=0.0))))"
      ]
     },
     "metadata": {},
     "output_type": "display_data"
    },
    {
     "data": {
      "image/png": "[encoded data removed]",
      "text/plain": [
       "<matplotlib.figure.Figure at 0x113d6f1d0>"
      ]
     },
     "metadata": {},
     "output_type": "display_data"
    }
   ],
   "source": [
    "from bqplot import LinearScale, Lines, Axis, Figure\n",
    "from ipywidgets import IntSlider, FloatSlider, HBox, VBox, Play, jslink\n",
    "\n",
    "import bqplot.pyplot as bqplt\n",
    "\n",
    "fig = bqplt.figure(figsize=(8,4))      # Create an empty figure\n",
    "plt.axes()\n",
    "traffic = bqplt.plot(x, QQ[0])\n",
    "\n",
    "frame_slider = IntSlider(min=0, max=len(QQ)-1, step=1, description='Frame', value=0)\n",
    "\n",
    "def frame_changed(change):\n",
    "    t = frame_slider.value\n",
    "    traffic.y = QQ[t]\n",
    "\n",
    "frame_slider.observe(frame_changed, 'value')\n",
    "play_button = Play(min=0, max=len(QQ), step=1)\n",
    "\n",
    "jslink((play_button, 'value'), (frame_slider, 'value'))\n",
    "VBox([HBox([frame_slider, play_button]), fig])"
   ]
  },
  {
   "cell_type": "code",
   "execution_count": null,
   "metadata": {
    "collapsed": true
   },
   "outputs": [],
   "source": []
  }
 ],
 "metadata": {
  "kernelspec": {
   "display_name": "Python 3",
   "language": "python",
   "name": "python3"
  },
  "language_info": {
   "codemirror_mode": {
    "name": "ipython",
    "version": 3
   },
   "file_extension": ".py",
   "mimetype": "text/x-python",
   "name": "python",
   "nbconvert_exporter": "python",
   "pygments_lexer": "ipython3",
   "version": "3.6.3"
  }
 },
 "nbformat": 4,
 "nbformat_minor": 2
}
